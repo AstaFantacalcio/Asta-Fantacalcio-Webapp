{
 "cells": [
  {
   "cell_type": "code",
   "execution_count": 1,
   "id": "a71e8f9b",
   "metadata": {},
   "outputs": [],
   "source": [
    "import ipywidgets as widgets\n",
    "import pandas as pd\n",
    "from github import Github\n",
    "import requests\n",
    "from bs4 import BeautifulSoup\n",
    "\n",
    "import matplotlib.pyplot as plt\n",
    "import numpy as np\n",
    "import os"
   ]
  },
  {
   "cell_type": "code",
   "execution_count": 2,
   "id": "f161dfee",
   "metadata": {
    "scrolled": false
   },
   "outputs": [
    {
     "ename": "KeyError",
     "evalue": "'GITHUB_TOKEN'",
     "output_type": "error",
     "traceback": [
      "\u001B[0;31m---------------------------------------------------------------------------\u001B[0m",
      "\u001B[0;31mKeyError\u001B[0m                                  Traceback (most recent call last)",
      "Input \u001B[0;32mIn [2]\u001B[0m, in \u001B[0;36m<cell line: 42>\u001B[0;34m()\u001B[0m\n\u001B[1;32m     39\u001B[0m     reset \u001B[38;5;241m=\u001B[39m \u001B[38;5;28;01mTrue\u001B[39;00m\n\u001B[1;32m     40\u001B[0m     check\u001B[38;5;241m.\u001B[39mvalue \u001B[38;5;241m=\u001B[39m \u001B[38;5;129;01mnot\u001B[39;00m check\u001B[38;5;241m.\u001B[39mvalue\n\u001B[0;32m---> 42\u001B[0m button \u001B[38;5;241m=\u001B[39m widgets\u001B[38;5;241m.\u001B[39mButton(description\u001B[38;5;241m=\u001B[39m\u001B[38;5;124m'\u001B[39m\u001B[38;5;124mUpdate player list\u001B[39m\u001B[38;5;124m'\u001B[39m \u001B[38;5;241m+\u001B[39m \u001B[43mos\u001B[49m\u001B[38;5;241;43m.\u001B[39;49m\u001B[43menviron\u001B[49m\u001B[43m[\u001B[49m\u001B[38;5;124;43m'\u001B[39;49m\u001B[38;5;124;43mGITHUB_TOKEN\u001B[39;49m\u001B[38;5;124;43m'\u001B[39;49m\u001B[43m]\u001B[49m)\n\u001B[1;32m     43\u001B[0m button\u001B[38;5;241m.\u001B[39mon_click(on_button_clicked)\n\u001B[1;32m     45\u001B[0m display(widgets\u001B[38;5;241m.\u001B[39mVBox([button]))\n",
      "File \u001B[0;32m~/.pyenv/versions/3.10.2/lib/python3.10/os.py:679\u001B[0m, in \u001B[0;36m_Environ.__getitem__\u001B[0;34m(self, key)\u001B[0m\n\u001B[1;32m    676\u001B[0m     value \u001B[38;5;241m=\u001B[39m \u001B[38;5;28mself\u001B[39m\u001B[38;5;241m.\u001B[39m_data[\u001B[38;5;28mself\u001B[39m\u001B[38;5;241m.\u001B[39mencodekey(key)]\n\u001B[1;32m    677\u001B[0m \u001B[38;5;28;01mexcept\u001B[39;00m \u001B[38;5;167;01mKeyError\u001B[39;00m:\n\u001B[1;32m    678\u001B[0m     \u001B[38;5;66;03m# raise KeyError with the original key value\u001B[39;00m\n\u001B[0;32m--> 679\u001B[0m     \u001B[38;5;28;01mraise\u001B[39;00m \u001B[38;5;167;01mKeyError\u001B[39;00m(key) \u001B[38;5;28;01mfrom\u001B[39;00m \u001B[38;5;28mNone\u001B[39m\n\u001B[1;32m    680\u001B[0m \u001B[38;5;28;01mreturn\u001B[39;00m \u001B[38;5;28mself\u001B[39m\u001B[38;5;241m.\u001B[39mdecodevalue(value)\n",
      "\u001B[0;31mKeyError\u001B[0m: 'GITHUB_TOKEN'"
     ]
    }
   ],
   "source": [
    "reset = True\n",
    "\n",
    "check = widgets.Checkbox(\n",
    "    value=False,\n",
    "    description='Check me',\n",
    "    disabled=False\n",
    ")\n",
    "\n",
    "\n",
    "    \n",
    "\n",
    "def show_players(check):\n",
    "\n",
    "    response = requests.get(\"https://github.com/AstaFantacalcio/Asta-Fantacalcio/blob/main/2022_2023/data.csv\")\n",
    "    soup = BeautifulSoup(response.content, \"html.parser\")\n",
    "    \n",
    "    hash_last_commit = soup.find(\"a\", {\"class\": \"d-none js-permalink-shortcut\"}).get(\"href\").split(\"/\")[-3]\n",
    "    \n",
    "    url_data = fr\"https://raw.githubusercontent.com/AstaFantacalcio/Asta-Fantacalcio/{hash_last_commit}/2022_2023/data.csv\"\n",
    "    data_csv = pd.read_csv(url_data, header=None)\n",
    "    \n",
    "    fig = plt.figure()\n",
    "    counter_row = 0\n",
    "    for index, row in data_csv.iterrows():\n",
    "        for counter, feat in enumerate(row):\n",
    "            if counter == 1:\n",
    "                plt.text(counter, counter_row, float(feat) + np.random.random())\n",
    "            else:\n",
    "                plt.text(counter, counter_row, feat)\n",
    "        counter_row += 1\n",
    "\n",
    "    plt.xlim(0, 5)\n",
    "    plt.ylim(0, len(data_csv) + 1)\n",
    "    plt.title(np.random.random())\n",
    "    \n",
    "    reset = False\n",
    "    \n",
    "def on_button_clicked(_):\n",
    "    reset = True\n",
    "    check.value = not check.value\n",
    "\n",
    "button = widgets.Button(description='Update player list' + os.environ['GITHUB_TOKEN'])\n",
    "button.on_click(on_button_clicked)\n",
    "\n",
    "display(widgets.VBox([button]))\n",
    "widgets.interactive_output(show_players, {\"check\": check})"
   ]
  }
 ],
 "metadata": {
  "kernelspec": {
   "display_name": "Python 3 (ipykernel)",
   "language": "python",
   "name": "python3"
  },
  "language_info": {
   "codemirror_mode": {
    "name": "ipython",
    "version": 3
   },
   "file_extension": ".py",
   "mimetype": "text/x-python",
   "name": "python",
   "nbconvert_exporter": "python",
   "pygments_lexer": "ipython3",
   "version": "3.10.2"
  }
 },
 "nbformat": 4,
 "nbformat_minor": 5
}