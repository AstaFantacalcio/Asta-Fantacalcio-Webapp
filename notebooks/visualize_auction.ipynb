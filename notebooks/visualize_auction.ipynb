{
 "cells": [
  {
   "cell_type": "code",
   "execution_count": 1,
   "id": "a71e8f9b",
   "metadata": {},
   "outputs": [],
   "source": [
    "import ipywidgets as widgets\n",
    "import pandas as pd\n",
    "from github import Github\n",
    "import requests\n",
    "from bs4 import BeautifulSoup\n",
    "from copy import deepcopy as dcopy\n",
    "\n",
    "import matplotlib.pyplot as plt\n",
    "import numpy as np\n",
    "import os"
   ]
  },
  {
   "cell_type": "code",
   "execution_count": 2,
   "id": "471e1441",
   "metadata": {
    "scrolled": false
   },
   "outputs": [
    {
     "data": {
      "application/vnd.jupyter.widget-view+json": {
       "model_id": "37c52961f12142de8c3e6b30961eb3d6",
       "version_major": 2,
       "version_minor": 0
      },
      "text/plain": [
       "HBox(children=(Button(description='Update player list', style=ButtonStyle()), Text(value='', description='User…"
      ]
     },
     "metadata": {},
     "output_type": "display_data"
    },
    {
     "data": {
      "application/vnd.jupyter.widget-view+json": {
       "model_id": "540e541de21241088915c6521ea91ef5",
       "version_major": 2,
       "version_minor": 0
      },
      "text/plain": [
       "Output()"
      ]
     },
     "metadata": {},
     "output_type": "display_data"
    },
    {
     "data": {
      "image/png": "[encoded data removed]",
      "text/plain": [
       "<Figure size 432x288 with 1 Axes>"
      ]
     },
     "metadata": {
      "needs_background": "light"
     },
     "output_type": "display_data"
    }
   ],
   "source": [
    "reset = True\n",
    "\n",
    "check = widgets.Checkbox(\n",
    "    value=False,\n",
    "    description='Check me',\n",
    "    disabled=False\n",
    ")\n",
    "\n",
    "user_field_shown = widgets.Text(\n",
    "    value='',\n",
    "    placeholder='username',\n",
    "    description='User:',\n",
    "    disabled=False\n",
    ")\n",
    "\n",
    "\n",
    "user_field_hidden = widgets.Text(\n",
    "    value=' ',\n",
    "    placeholder='username',\n",
    "    description='User:',\n",
    "    disabled=False\n",
    ")\n",
    "    \n",
    "\n",
    "def show_players(check, user_field_hidden):\n",
    "\n",
    "    response = requests.get(\"https://github.com/AstaFantacalcio/Asta-Fantacalcio/blob/main/2022_2023/data.csv\")\n",
    "    soup = BeautifulSoup(response.content, \"html.parser\")\n",
    "    \n",
    "    hash_last_commit = soup.find(\"a\", {\"class\": \"d-none js-permalink-shortcut\"}).get(\"href\").split(\"/\")[-3]\n",
    "    \n",
    "    url_data = fr\"https://raw.githubusercontent.com/AstaFantacalcio/Asta-Fantacalcio/{hash_last_commit}/2022_2023/data.csv\"\n",
    "    data_csv = pd.read_csv(url_data, header=None)\n",
    "    \n",
    "    fig = plt.figure()\n",
    "    counter_row = 0\n",
    "    for index, row in data_csv.iterrows():\n",
    "        for counter, feat in enumerate(row):\n",
    "            if counter == 1:\n",
    "                plt.text(counter, counter_row, float(feat) + np.random.random())\n",
    "            else:\n",
    "                plt.text(counter, counter_row, feat)\n",
    "        counter_row += 1\n",
    "\n",
    "    plt.xlim(0, 5)\n",
    "    plt.ylim(0, len(data_csv) + 1)\n",
    "    plt.title(f\"{user_field_hidden} - {np.random.random():.4f}\")\n",
    "\n",
    "    g = Github(os.environ['GITHUB_TOKEN'])\n",
    "    GITHUB_REPO = 'Asta-Fantacalcio'\n",
    "\n",
    "    repo = g.get_user().get_repo(GITHUB_REPO)\n",
    "    git_file = os.path.join(\"2022_2023\", f\"data_{user_field_hidden}.csv\")\n",
    "    try:\n",
    "        contents = repo.get_contents(git_file)\n",
    "        repo.update_file(git_file, \"committing files\", \"Uploaded!\", contents.sha, branch=\"main\")\n",
    "    except:\n",
    "        repo.create_file(git_file, \"committing files\", \"Uploaded!\", branch=\"main\")\n",
    "    \n",
    "    reset = False\n",
    "    \n",
    "def on_button_clicked(_):\n",
    "    reset = True\n",
    "    \n",
    "#     prev_user = dcopy(user_field_hidden.value)\n",
    "    user_field_hidden.value = user_field_shown.value\n",
    "#     next_user = dcopy(user_field_hidden.value)\n",
    "#     if next_user == prev_user:\n",
    "    check.value = not check.value\n",
    "\n",
    "button = widgets.Button(description='Update player list')\n",
    "button.on_click(on_button_clicked)\n",
    "\n",
    "display(widgets.HBox([button, user_field_shown]))\n",
    "widgets.interactive_output(show_players, {\"check\": check, \"user_field_hidden\": user_field_hidden})"
   ]
  },
  {
   "cell_type": "code",
   "execution_count": null,
   "id": "c6ce4375",
   "metadata": {},
   "outputs": [],
   "source": []
  }
 ],
 "metadata": {
  "kernelspec": {
   "display_name": "Python 3 (ipykernel)",
   "language": "python",
   "name": "python3"
  },
  "language_info": {
   "codemirror_mode": {
    "name": "ipython",
    "version": 3
   },
   "file_extension": ".py",
   "mimetype": "text/x-python",
   "name": "python",
   "nbconvert_exporter": "python",
   "pygments_lexer": "ipython3",
   "version": "3.10.2"
  }
 },
 "nbformat": 4,
 "nbformat_minor": 5
}