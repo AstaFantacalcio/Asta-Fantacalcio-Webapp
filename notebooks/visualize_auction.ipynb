{
 "cells": [
  {
   "cell_type": "code",
   "execution_count": 1,
   "id": "a71e8f9b",
   "metadata": {},
   "outputs": [],
   "source": [
    "import ipywidgets as widgets\n",
    "import pandas as pd\n",
    "from github import Github\n",
    "import requests\n",
    "from bs4 import BeautifulSoup\n",
    "\n",
    "import matplotlib.pyplot as plt\n",
    "import numpy as np"
   ]
  },
  {
   "cell_type": "code",
   "execution_count": 2,
   "id": "1a3901f9",
   "metadata": {
    "scrolled": false
   },
   "outputs": [
    {
     "data": {
      "application/vnd.jupyter.widget-view+json": {
       "model_id": "817c2a3925884070922198cde0785868",
       "version_major": 2,
       "version_minor": 0
      },
      "text/plain": [
       "VBox(children=(Button(description='Update player list', style=ButtonStyle()),))"
      ]
     },
     "metadata": {},
     "output_type": "display_data"
    },
    {
     "data": {
      "application/vnd.jupyter.widget-view+json": {
       "model_id": "ab10ca754b7641cea4f4618d72417c2a",
       "version_major": 2,
       "version_minor": 0
      },
      "text/plain": [
       "Output()"
      ]
     },
     "metadata": {},
     "output_type": "display_data"
    }
   ],
   "source": [
    "reset = True\n",
    "\n",
    "check = widgets.Checkbox(\n",
    "    value=False,\n",
    "    description='Check me',\n",
    "    disabled=False\n",
    ")\n",
    "\n",
    "\n",
    "    \n",
    "\n",
    "def show_players(check):\n",
    "\n",
    "    response = requests.get(\"https://github.com/AstaFantacalcio/Asta-Fantacalcio/blob/main/2022_2023/data.csv\")\n",
    "    soup = BeautifulSoup(response.content, \"html.parser\")\n",
    "    \n",
    "    hash_last_commit = soup.find(\"a\", {\"class\": \"d-none js-permalink-shortcut\"}).get(\"href\").split(\"/\")[-3]\n",
    "    \n",
    "    url_data = fr\"https://raw.githubusercontent.com/AstaFantacalcio/Asta-Fantacalcio/{hash_last_commit}/2022_2023/data.csv\"\n",
    "    data_csv = pd.read_csv(url_data, header=None)\n",
    "    \n",
    "    fig = plt.figure()\n",
    "    counter_row = 0\n",
    "    for index, row in data_csv.iterrows():\n",
    "        for counter, feat in enumerate(row):\n",
    "            if counter == 1:\n",
    "                plt.text(counter, counter_row, float(feat) + np.random.random())\n",
    "            else:\n",
    "                plt.text(counter, counter_row, feat)\n",
    "        counter_row += 1\n",
    "\n",
    "    plt.xlim(0, 5)\n",
    "    plt.ylim(0, len(data_csv) + 1)\n",
    "    plt.title(np.random.random())\n",
    "    plt.show()\n",
    "    \n",
    "    reset = False\n",
    "    \n",
    "def on_button_clicked(_):\n",
    "    reset = True\n",
    "    check.value = not check.value\n",
    "\n",
    "button = widgets.Button(description='Update player list')\n",
    "button.on_click(on_button_clicked)\n",
    "\n",
    "display(widgets.VBox([button]))\n",
    "widgets.interactive_output(show_players, {\"check\": check})"
   ]
  },
  {
   "cell_type": "code",
   "execution_count": 3,
   "id": "7823ccbb",
   "metadata": {},
   "outputs": [
    {
     "data": {
      "application/vnd.jupyter.widget-view+json": {
       "model_id": "25555c412be54f22b0cae6a769315f25",
       "version_major": 2,
       "version_minor": 0
      },
      "text/plain": [
       "VBox(children=(Button(description='Update player list', style=ButtonStyle()),))"
      ]
     },
     "metadata": {},
     "output_type": "display_data"
    },
    {
     "data": {
      "application/vnd.jupyter.widget-view+json": {
       "model_id": "e8529d50419545e39dc8934b8be1c3ac",
       "version_major": 2,
       "version_minor": 0
      },
      "text/plain": [
       "Output()"
      ]
     },
     "metadata": {},
     "output_type": "display_data"
    }
   ],
   "source": [
    "reset = True\n",
    "\n",
    "check__2 = widgets.Checkbox(\n",
    "    value=False,\n",
    "    description='Check me',\n",
    "    disabled=False\n",
    ")\n",
    "\n",
    "\n",
    "    \n",
    "\n",
    "def show_players__2(check):\n",
    "\n",
    "    response = requests.get(\"https://github.com/AstaFantacalcio/Asta-Fantacalcio/blob/main/2022_2023/data.csv\")\n",
    "    soup = BeautifulSoup(response.content, \"html.parser\")\n",
    "    \n",
    "    hash_last_commit = soup.find(\"a\", {\"class\": \"d-none js-permalink-shortcut\"}).get(\"href\").split(\"/\")[-3]\n",
    "    \n",
    "    url_data = fr\"https://raw.githubusercontent.com/AstaFantacalcio/Asta-Fantacalcio/{hash_last_commit}/2022_2023/data.csv\"\n",
    "    data_csv = pd.read_csv(url_data, header=None)\n",
    "    \n",
    "    fig__2 = plt.figure()\n",
    "    counter_row = 0\n",
    "    for index, row in data_csv.iterrows():\n",
    "        for counter, feat in enumerate(row):\n",
    "            if counter == 1:\n",
    "                plt.text(counter, counter_row, float(feat) + np.random.random())\n",
    "            else:\n",
    "                plt.text(counter, counter_row, feat)\n",
    "        counter_row += 1\n",
    "\n",
    "    plt.xlim(0, 5)\n",
    "    plt.ylim(0, len(data_csv) + 1)\n",
    "    plt.title(np.random.random())\n",
    "    plt.show()\n",
    "    \n",
    "    reset = False\n",
    "    \n",
    "def on_button_clicked__2(_):\n",
    "    reset = True\n",
    "    check__2.value = not check__2.value\n",
    "\n",
    "button__2 = widgets.Button(description='Update player list')\n",
    "button__2.on_click(on_button_clicked__2)\n",
    "\n",
    "display(widgets.VBox([button__2]))\n",
    "widgets.interactive_output(show_players__2, {\"check\": check__2})"
   ]
  },
  {
   "cell_type": "code",
   "execution_count": null,
   "id": "c1d41b7e",
   "metadata": {},
   "outputs": [],
   "source": [
    "reset = True\n",
    "\n",
    "check__3 = widgets.Checkbox(\n",
    "    value=False,\n",
    "    description='Check me',\n",
    "    disabled=False\n",
    ")\n",
    "\n",
    "\n",
    "    \n",
    "\n",
    "def show_players__3(check):\n",
    "\n",
    "    response = requests.get(\"https://github.com/AstaFantacalcio/Asta-Fantacalcio/blob/main/2022_2023/data.csv\")\n",
    "    soup = BeautifulSoup(response.content, \"html.parser\")\n",
    "    \n",
    "    hash_last_commit = soup.find(\"a\", {\"class\": \"d-none js-permalink-shortcut\"}).get(\"href\").split(\"/\")[-3]\n",
    "    \n",
    "    url_data = fr\"https://raw.githubusercontent.com/AstaFantacalcio/Asta-Fantacalcio/{hash_last_commit}/2022_2023/data.csv\"\n",
    "    data_csv = pd.read_csv(url_data, header=None)\n",
    "    \n",
    "    fig__3 = plt.figure()\n",
    "    counter_row = 0\n",
    "    for index, row in data_csv.iterrows():\n",
    "        for counter, feat in enumerate(row):\n",
    "            if counter == 1:\n",
    "                plt.text(counter, counter_row, float(feat) + np.random.random())\n",
    "            else:\n",
    "                plt.text(counter, counter_row, feat)\n",
    "        counter_row += 1\n",
    "\n",
    "    plt.xlim(0, 5)\n",
    "    plt.ylim(0, len(data_csv) + 1)\n",
    "    plt.title(np.random.random())\n",
    "    plt.show()\n",
    "    \n",
    "    reset = False\n",
    "    \n",
    "def on_button_clicked__3(_):\n",
    "    reset = True\n",
    "    check__3.value = not check__3.value\n",
    "\n",
    "button__3 = widgets.Button(description='Update player list')\n",
    "button__3.on_click(on_button_clicked__3)\n",
    "\n",
    "display(widgets.VBox([button__3]))\n",
    "widgets.interactive_output(show_players__3, {\"check\": check__3})"
   ]
  },
  {
   "cell_type": "code",
   "execution_count": null,
   "id": "06f149a9",
   "metadata": {},
   "outputs": [],
   "source": [
    "reset = True\n",
    "\n",
    "check__4 = widgets.Checkbox(\n",
    "    value=False,\n",
    "    description='Check me',\n",
    "    disabled=False\n",
    ")\n",
    "\n",
    "\n",
    "    \n",
    "\n",
    "def show_players__4(check):\n",
    "\n",
    "    response = requests.get(\"https://github.com/AstaFantacalcio/Asta-Fantacalcio/blob/main/2022_2023/data.csv\")\n",
    "    soup = BeautifulSoup(response.content, \"html.parser\")\n",
    "    \n",
    "    hash_last_commit = soup.find(\"a\", {\"class\": \"d-none js-permalink-shortcut\"}).get(\"href\").split(\"/\")[-3]\n",
    "    \n",
    "    url_data = fr\"https://raw.githubusercontent.com/AstaFantacalcio/Asta-Fantacalcio/{hash_last_commit}/2022_2023/data.csv\"\n",
    "    data_csv = pd.read_csv(url_data, header=None)\n",
    "    \n",
    "    fig__4 = plt.figure()\n",
    "    counter_row = 0\n",
    "    for index, row in data_csv.iterrows():\n",
    "        for counter, feat in enumerate(row):\n",
    "            if counter == 1:\n",
    "                plt.text(counter, counter_row, float(feat) + np.random.random())\n",
    "            else:\n",
    "                plt.text(counter, counter_row, feat)\n",
    "        counter_row += 1\n",
    "\n",
    "    plt.xlim(0, 5)\n",
    "    plt.ylim(0, len(data_csv) + 1)\n",
    "    plt.title(np.random.random())\n",
    "    plt.show()\n",
    "    \n",
    "    reset = False\n",
    "    \n",
    "def on_button_clicked__4(_):\n",
    "    reset = True\n",
    "    check__4.value = not check__4.value\n",
    "\n",
    "button__4 = widgets.Button(description='Update player list')\n",
    "button__4.on_click(on_button_clicked__4)\n",
    "\n",
    "display(widgets.VBox([button__4]))\n",
    "widgets.interactive_output(show_players__4, {\"check\": check__4})"
   ]
  }
 ],
 "metadata": {
  "kernelspec": {
   "display_name": "Python 3 (ipykernel)",
   "language": "python",
   "name": "python3"
  },
  "language_info": {
   "codemirror_mode": {
    "name": "ipython",
    "version": 3
   },
   "file_extension": ".py",
   "mimetype": "text/x-python",
   "name": "python",
   "nbconvert_exporter": "python",
   "pygments_lexer": "ipython3",
   "version": "3.10.2"
  }
 },
 "nbformat": 4,
 "nbformat_minor": 5
}